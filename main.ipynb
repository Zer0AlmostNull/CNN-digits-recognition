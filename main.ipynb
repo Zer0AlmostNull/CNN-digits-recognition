{
 "cells": [
  {
   "cell_type": "code",
   "execution_count": 1,
   "metadata": {},
   "outputs": [],
   "source": [
    "# imports\n",
    "import tensorflow as tf\n",
    "from tensorflow import keras\n",
    "\n",
    "import matplotlib.pyplot as plt\n",
    "import numpy as np"
   ]
  },
  {
   "cell_type": "code",
   "execution_count": 2,
   "metadata": {},
   "outputs": [
    {
     "name": "stdout",
     "output_type": "stream",
     "text": [
      "Data to learn:  60000 \n",
      "Data to test:  10000\n"
     ]
    }
   ],
   "source": [
    "# load data \n",
    "(x_train, y_train), (x_test, y_test) = keras.datasets.mnist.load_data()\n",
    "\n",
    "print('Data to learn: ', len(x_train),'\\nData to test: ', len(x_test))"
   ]
  },
  {
   "cell_type": "code",
   "execution_count": 3,
   "metadata": {},
   "outputs": [],
   "source": [
    "# scale the data\n",
    "x_train, x_test = x_train/255, x_test/255"
   ]
  },
  {
   "cell_type": "code",
   "execution_count": 4,
   "metadata": {},
   "outputs": [],
   "source": [
    "# create nn\n",
    "ann = keras.Sequential([\n",
    "    keras.layers.Flatten(input_shape = (28, 28),),\n",
    "    keras.layers.Dense(20, activation = keras.activations.relu),\n",
    "    keras.layers.Dense(100, activation = keras.activations.sigmoid),\n",
    "    keras.layers.Dense(10, activation = keras.activations.sigmoid),\n",
    "])"
   ]
  },
  {
   "cell_type": "code",
   "execution_count": 5,
   "metadata": {},
   "outputs": [
    {
     "name": "stdout",
     "output_type": "stream",
     "text": [
      "Epoch 1/3\n",
      "1875/1875 [==============================] - 16s 7ms/step - loss: 0.4391 - accuracy: 0.8805\n",
      "Epoch 2/3\n",
      "1875/1875 [==============================] - 18s 10ms/step - loss: 0.2165 - accuracy: 0.9344\n",
      "Epoch 3/3\n",
      "1875/1875 [==============================] - 16s 8ms/step - loss: 0.1758 - accuracy: 0.9467\n"
     ]
    },
    {
     "data": {
      "text/plain": [
       "<keras.callbacks.History at 0x11e4eb92940>"
      ]
     },
     "execution_count": 5,
     "metadata": {},
     "output_type": "execute_result"
    }
   ],
   "source": [
    "ann.compile(optimizer = 'adam',\n",
    "                 loss = 'sparse_categorical_crossentropy',\n",
    "                 metrics = ['accuracy'],\n",
    "                 )\n",
    "\n",
    "# training\n",
    "ann.fit(x_train, y_train, epochs=3)"
   ]
  },
  {
   "cell_type": "code",
   "execution_count": 6,
   "metadata": {},
   "outputs": [
    {
     "name": "stdout",
     "output_type": "stream",
     "text": [
      "313/313 [==============================] - 2s 7ms/step - loss: 0.1704 - accuracy: 0.9482\n"
     ]
    },
    {
     "data": {
      "text/plain": [
       "[0.17039132118225098, 0.948199987411499]"
      ]
     },
     "execution_count": 6,
     "metadata": {},
     "output_type": "execute_result"
    }
   ],
   "source": [
    "# evaluate the output of classic ann\n",
    "ann.evaluate(x_test, y_test)"
   ]
  },
  {
   "cell_type": "code",
   "execution_count": 7,
   "metadata": {},
   "outputs": [
    {
     "name": "stdout",
     "output_type": "stream",
     "text": [
      "313/313 [==============================] - 1s 3ms/step\n"
     ]
    }
   ],
   "source": [
    "y_pred = ann.predict(x_test)\n",
    "y_pred = [np.argmax(e) for e in y_pred]"
   ]
  },
  {
   "cell_type": "code",
   "execution_count": 8,
   "metadata": {},
   "outputs": [
    {
     "name": "stdout",
     "output_type": "stream",
     "text": [
      "Classification report:\n",
      "               precision    recall  f1-score   support\n",
      "\n",
      "           0       0.94      0.99      0.97       980\n",
      "           1       0.98      0.98      0.98      1135\n",
      "           2       0.95      0.95      0.95      1032\n",
      "           3       0.93      0.94      0.94      1010\n",
      "           4       0.97      0.94      0.95       982\n",
      "           5       0.93      0.93      0.93       892\n",
      "           6       0.97      0.94      0.95       958\n",
      "           7       0.96      0.93      0.95      1028\n",
      "           8       0.92      0.94      0.93       974\n",
      "           9       0.93      0.94      0.93      1009\n",
      "\n",
      "    accuracy                           0.95     10000\n",
      "   macro avg       0.95      0.95      0.95     10000\n",
      "weighted avg       0.95      0.95      0.95     10000\n",
      "\n"
     ]
    }
   ],
   "source": [
    "from sklearn.metrics import confusion_matrix, classification_report\n",
    "\n",
    "\n",
    "# classification report\n",
    "print('Classification report:\\n', classification_report(y_test, y_pred))\n"
   ]
  },
  {
   "cell_type": "code",
   "execution_count": 47,
   "metadata": {},
   "outputs": [],
   "source": [
    "# creata data generators\n",
    "class DataGenerator(tf.keras.utils.Sequence):\n",
    "    def __init__(self, x_set, y_set, batch_size):\n",
    "        self.x, self.y = x_set, y_set\n",
    "        self.batch_size = batch_size\n",
    "\n",
    "    def __len__(self):\n",
    "        return int(np.ceil(len(self.x) / float(self.batch_size)))\n",
    "\n",
    "    def __getitem__(self, idx):\n",
    "        batch_x = self.x[idx * self.batch_size:(idx + 1) * self.batch_size]\n",
    "        batch_y = self.y[idx * self.batch_size:(idx + 1) * self.batch_size]\n",
    "        return batch_x, batch_y\n",
    "\n",
    "x_train_prep = x_train.reshape((len(x_train), 28,28,1))\n",
    "train_gen = DataGenerator(x_train_prep, y_train, 32)"
   ]
  },
  {
   "cell_type": "code",
   "execution_count": 195,
   "metadata": {},
   "outputs": [],
   "source": [
    "# create cnn\n",
    "cnn = keras.Sequential([\n",
    "    # cnn\n",
    "    keras.layers.Conv2D(filters = 20, kernel_size = (3,3),input_shape = (28,28,1),activation = keras.activations.relu),\n",
    "    keras.layers.MaxPooling2D((2, 2)),\n",
    "\n",
    "    keras.layers.Conv2D(filters = 50, kernel_size = (3,3), activation = keras.activations.relu),\n",
    "    keras.layers.MaxPooling2D((2, 2)),\n",
    "\n",
    "    # dense\n",
    "    keras.layers.Flatten(),\n",
    "    keras.layers.Dropout(0.1),\n",
    "    keras.layers.Dense(128, activation = keras.activations.relu),\n",
    "    keras.layers.Dropout(0.1),\n",
    "    keras.layers.Dense(64, activation = keras.activations.relu),\n",
    "    keras.layers.Dropout(0.1),\n",
    "    keras.layers.Dense(10, activation = keras.activations.softmax),\n",
    "])"
   ]
  },
  {
   "cell_type": "code",
   "execution_count": 197,
   "metadata": {},
   "outputs": [],
   "source": [
    "cnn.compile(\n",
    "    optimizer = keras.optimizers.Adam(),\n",
    "    loss = keras.losses.sparse_categorical_crossentropy,\n",
    "    metrics = ['accuracy'],\n",
    "    )"
   ]
  },
  {
   "cell_type": "code",
   "execution_count": 198,
   "metadata": {},
   "outputs": [
    {
     "name": "stdout",
     "output_type": "stream",
     "text": [
      "Epoch 1/5\n",
      "1875/1875 [==============================] - 32s 16ms/step - loss: 0.1869 - accuracy: 0.9426\n",
      "Epoch 2/5\n",
      "1875/1875 [==============================] - 28s 15ms/step - loss: 0.0645 - accuracy: 0.9814\n",
      "Epoch 3/5\n",
      "1875/1875 [==============================] - 32s 17ms/step - loss: 0.0472 - accuracy: 0.9856\n",
      "Epoch 4/5\n",
      "1875/1875 [==============================] - 26s 14ms/step - loss: 0.0372 - accuracy: 0.9885\n",
      "Epoch 5/5\n",
      "1875/1875 [==============================] - 31s 16ms/step - loss: 0.0310 - accuracy: 0.9905\n"
     ]
    },
    {
     "data": {
      "text/plain": [
       "<keras.callbacks.History at 0x11ee3482a00>"
      ]
     },
     "execution_count": 198,
     "metadata": {},
     "output_type": "execute_result"
    }
   ],
   "source": [
    "cnn.fit(train_gen, epochs=5)"
   ]
  },
  {
   "cell_type": "code",
   "execution_count": null,
   "metadata": {},
   "outputs": [
    {
     "name": "stdout",
     "output_type": "stream",
     "text": [
      "313/313 [==============================] - 3s 9ms/step - loss: 0.0299 - accuracy: 0.9904\n"
     ]
    },
    {
     "data": {
      "text/plain": [
       "[0.029947219416499138, 0.9904000163078308]"
      ]
     },
     "execution_count": 185,
     "metadata": {},
     "output_type": "execute_result"
    }
   ],
   "source": [
    "# prepare test data\n",
    "x_test_prep = x_test.reshape((len(x_test), 28, 28, 1))\n",
    "cnn.evaluate(x_test_prep, y_test)"
   ]
  },
  {
   "cell_type": "code",
   "execution_count": null,
   "metadata": {},
   "outputs": [
    {
     "name": "stdout",
     "output_type": "stream",
     "text": [
      "313/313 [==============================] - 2s 5ms/step\n"
     ]
    }
   ],
   "source": [
    "# get the predictions\n",
    "y_pred_cnn = cnn.predict(x_test_prep)\n",
    "y_pred_cnn = [np.argmax(e) for e in y_pred_cnn]"
   ]
  },
  {
   "cell_type": "code",
   "execution_count": null,
   "metadata": {},
   "outputs": [
    {
     "name": "stdout",
     "output_type": "stream",
     "text": [
      "Classification report:\n",
      "               precision    recall  f1-score   support\n",
      "\n",
      "           0       0.99      0.99      0.99       980\n",
      "           1       1.00      0.99      0.99      1135\n",
      "           2       0.99      0.99      0.99      1032\n",
      "           3       0.97      1.00      0.99      1010\n",
      "           4       1.00      0.99      0.99       982\n",
      "           5       0.99      0.99      0.99       892\n",
      "           6       0.99      0.99      0.99       958\n",
      "           7       0.99      0.99      0.99      1028\n",
      "           8       0.99      0.99      0.99       974\n",
      "           9       0.99      0.98      0.98      1009\n",
      "\n",
      "    accuracy                           0.99     10000\n",
      "   macro avg       0.99      0.99      0.99     10000\n",
      "weighted avg       0.99      0.99      0.99     10000\n",
      "\n"
     ]
    }
   ],
   "source": [
    "from sklearn.metrics import confusion_matrix, classification_report\n",
    "\n",
    "# classification report\n",
    "print('Classification report:\\n', classification_report(y_test, y_pred_cnn))"
   ]
  },
  {
   "cell_type": "code",
   "execution_count": null,
   "metadata": {},
   "outputs": [],
   "source": [
    "#\n",
    "# ----- Trying own digits -----\n",
    "#"
   ]
  },
  {
   "cell_type": "code",
   "execution_count": 199,
   "metadata": {},
   "outputs": [
    {
     "name": "stdout",
     "output_type": "stream",
     "text": [
      "1/1 [==============================] - 0s 403ms/step\n"
     ]
    },
    {
     "data": {
      "image/png": "[encoded data removed]",
      "text/plain": [
       "<Figure size 1500x200 with 1 Axes>"
      ]
     },
     "metadata": {},
     "output_type": "display_data"
    }
   ],
   "source": [
    "def predict_number(path):\n",
    "    from PIL import Image\n",
    "\n",
    "    img = Image.open(path)\n",
    "    img = img.resize((28,28))\n",
    "\n",
    "    #remove rgb channels\n",
    "    img = np.asarray(img)\n",
    "\n",
    "    avg = np.mean(img, axis = 2)\n",
    "    img = avg.reshape((28,28,1))\n",
    "\n",
    "    # normalize values\n",
    "    img = img/255\n",
    "\n",
    "    input_data = img.reshape((1, 28, 28, 1))\n",
    "    prediction = cnn.predict(input_data,)\n",
    "\n",
    "    prediction = np.argmax(prediction[0])\n",
    "\n",
    "    plt.figure(figsize = (15,2))\n",
    "    plt.xlabel(f'Prediction: {prediction}')\n",
    "    plt.imshow(img)\n",
    "\n",
    "predict_number('./img.png')"
   ]
  },
  {
   "cell_type": "code",
   "execution_count": 200,
   "metadata": {},
   "outputs": [],
   "source": [
    "# saving\n",
    "cnn.save('cnn.h5')"
   ]
  }
 ],
 "metadata": {
  "kernelspec": {
   "display_name": "tf-cpu",
   "language": "python",
   "name": "python3"
  },
  "language_info": {
   "codemirror_mode": {
    "name": "ipython",
    "version": 3
   },
   "file_extension": ".py",
   "mimetype": "text/x-python",
   "name": "python",
   "nbconvert_exporter": "python",
   "pygments_lexer": "ipython3",
   "version": "3.9.16"
  },
  "orig_nbformat": 4
 },
 "nbformat": 4,
 "nbformat_minor": 2
}
